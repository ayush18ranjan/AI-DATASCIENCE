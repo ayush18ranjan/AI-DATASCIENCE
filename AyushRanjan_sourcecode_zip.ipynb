{
  "nbformat": 4,
  "nbformat_minor": 0,
  "metadata": {
    "colab": {
      "provenance": [],
      "authorship_tag": "ABX9TyP/tYLbjoC+kw8x1jpAv3xI",
      "include_colab_link": true
    },
    "kernelspec": {
      "name": "python3",
      "display_name": "Python 3"
    },
    "language_info": {
      "name": "python"
    }
  },
  "cells": [
    {
      "cell_type": "markdown",
      "metadata": {
        "id": "view-in-github",
        "colab_type": "text"
      },
      "source": [
        "<a href=\"https://colab.research.google.com/github/ayush18ranjan/AI-DATASCIENCE/blob/main/AyushRanjan_sourcecode_zip.ipynb\" target=\"_parent\"><img src=\"https://colab.research.google.com/assets/colab-badge.svg\" alt=\"Open In Colab\"/></a>"
      ]
    },
    {
      "cell_type": "code",
      "execution_count": null,
      "metadata": {
        "colab": {
          "base_uri": "https://localhost:8080/"
        },
        "id": "FtARrMaUom5X",
        "outputId": "595aea34-92a6-442b-ced7-0441ee348c3a"
      },
      "outputs": [
        {
          "name": "stdout",
          "output_type": "stream",
          "text": [
            "Enter your Groq API key: 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\n"
          ]
        }
      ],
      "source": [
        "import os\n",
        "import sqlite3\n",
        "import pandas as pd\n",
        "import openai  # Use Groq API\n",
        "from sqlalchemy import create_engine\n",
        "\n",
        "def load_dataset(csv_path, db_name=\"database.db\"):\n",
        "    \"\"\"Load CSV dataset into an SQLite database.\"\"\"\n",
        "    df = pd.read_csv(csv_path)\n",
        "    engine = create_engine(f'sqlite:///{db_name}')\n",
        "    table_name = \"data\"\n",
        "    df.to_sql(table_name, con=engine, if_exists='replace', index=False)\n",
        "    print(f\"Dataset loaded into table '{table_name}'\")\n",
        "    return db_name, table_name\n",
        "\n",
        "def nl_to_sql(nl_query, schema):\n",
        "    \"\"\"Convert natural language to SQL query using Groq API.\"\"\"\n",
        "    prompt = f\"\"\"\n",
        "    Convert the following natural language query into an SQL query:\n",
        "    Schema: {schema}\n",
        "    Query: {nl_query}\n",
        "    \"\"\"\n",
        "    try:\n",
        "        response = openai.ChatCompletion.create(\n",
        "            model=\"mixtral-8x7b-32768\",\n",
        "            messages=[{\"role\": \"system\", \"content\": \"You are a SQL query expert.\"},\n",
        "                      {\"role\": \"user\", \"content\": prompt}]\n",
        "        )\n",
        "        return response['choices'][0]['message']['content']\n",
        "    except Exception as e:\n",
        "        return f\"Error generating SQL: {e}\"\n",
        "\n",
        "def correct_sql(sql_query):\n",
        "    \"\"\"Use Groq API to correct SQL syntax or logical errors.\"\"\"\n",
        "    prompt = f\"Correct any errors in this SQL query: {sql_query}\"\n",
        "    try:\n",
        "        response = openai.ChatCompletion.create(\n",
        "            model=\"mixtral-8x7b-32768\",\n",
        "            messages=[{\"role\": \"system\", \"content\": \"You are an SQL correction assistant.\"},\n",
        "                      {\"role\": \"user\", \"content\": prompt}]\n",
        "        )\n",
        "        return response['choices'][0]['message']['content']\n",
        "    except Exception as e:\n",
        "        return f\"Error correcting SQL: {e}\"\n",
        "\n",
        "def execute_sql(db_name, sql_query):\n",
        "    \"\"\"Execute an SQL query and return results.\"\"\"\n",
        "    try:\n",
        "        conn = sqlite3.connect(db_name)\n",
        "        cursor = conn.cursor()\n",
        "        cursor.execute(sql_query)\n",
        "        results = cursor.fetchall()\n",
        "        conn.commit()\n",
        "        conn.close()\n",
        "        return results\n",
        "    except sqlite3.Error as e:\n",
        "        return f\"SQL Execution Error: {e}\"\n",
        "\n",
        "def main():\n",
        "    groq_api_key = input(\"Enter your Groq API key: \")\n",
        "    openai.api_key = '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' # Set the API key globally\n",
        "\n",
        "    dataset_path = input(\"Enter dataset CSV file path: \")\n",
        "    db_name, table_name = load_dataset(dataset_path)\n",
        "\n",
        "    while True:\n",
        "        nl_query = input(\"Enter your natural language query (or type 'exit' to quit): \")\n",
        "        if nl_query.lower() == 'exit':\n",
        "            break\n",
        "\n",
        "        schema_info = f\"Table: {table_name}, Columns: {', '.join(pd.read_sql(f'SELECT * FROM {table_name} LIMIT 1', sqlite3.connect(db_name)).columns)}\"\n",
        "        sql_query = nl_to_sql(nl_query, schema_info)\n",
        "\n",
        "        print(\"Generated SQL Query:\", sql_query)\n",
        "\n",
        "        corrected_sql = correct_sql(sql_query)\n",
        "        print(\"Corrected SQL Query:\", corrected_sql)\n",
        "\n",
        "        results = execute_sql(db_name, corrected_sql)\n",
        "        print(\"Query Results:\", results)\n",
        "\n",
        "if __name__ == \"__main__\":\n",
        "    main()\n"
      ]
    }
  ]
}